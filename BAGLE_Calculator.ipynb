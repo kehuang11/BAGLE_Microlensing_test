{
 "cells": [
  {
   "cell_type": "code",
   "execution_count": 1,
   "id": "d0bcaca2",
   "metadata": {},
   "outputs": [
    {
     "name": "stdout",
     "output_type": "stream",
     "text": [
      "7.7.2\n"
     ]
    }
   ],
   "source": [
    "%matplotlib widget\n",
    "import ipywidgets as widgets\n",
    "from ipywidgets import interact\n",
    "from IPython.display import clear_output\n",
    "\n",
    "import sys\n",
    "sys.path.append('src/')\n",
    "from src.bagle import model\n",
    "\n",
    "import numpy as np\n",
    "import matplotlib.pyplot as plt\n",
    "import matplotlib\n",
    "import numpy as np\n",
    "\n",
    "print(widgets.__version__)"
   ]
  },
  {
   "cell_type": "code",
   "execution_count": 2,
   "id": "f4974cdd",
   "metadata": {},
   "outputs": [],
   "source": [
    "ipython = get_ipython()\n",
    "\n",
    "def hide_traceback(exc_tuple=None, filename=None, tb_offset=None,\n",
    "                   exception_only=False, running_compiled_code=False):\n",
    "    etype, value, tb = sys.exc_info()\n",
    "    return ipython._showtraceback(etype, value, ipython.InteractiveTB.get_exception_only(etype, value))\n",
    "\n",
    "ipython.showtraceback = hide_traceback"
   ]
  },
  {
   "cell_type": "code",
   "execution_count": 3,
   "id": "c1ba7bd2",
   "metadata": {},
   "outputs": [],
   "source": [
    "mL = 10.0  # msun\n",
    "t0 = 57000.00\n",
    "xS0 = np.array([0.000, 0.000])\n",
    "# beta = -0.4 # mas\n",
    "beta = 1.4  # mas\n",
    "muS = np.array([8.0, 0.0])\n",
    "# muL = np.array([-7.0, 0.00])\n",
    "muL = np.array([0.00, 0.00])\n",
    "dL = 4000.0\n",
    "dS = 8000.0\n",
    "b_sff = 1.0\n",
    "mag_src = 19.0\n",
    "\n",
    "event1 = model.PSPL_PhotAstrom_noPar_Param1(mL,t0,beta,dL,dL / dS,xS0[0],xS0[1],muL[0],muL[1],muS[0],muS[1],[b_sff],[mag_src])\n",
    "event1_phot = model.PSPL_Phot_noPar_Param1(t0, event1.u0_amp, event1.tE, event1.piE_E, event1.piE_N,[b_sff],[mag_src])\n",
    "\n"
   ]
  },
  {
   "cell_type": "code",
   "execution_count": 4,
   "id": "fe285775",
   "metadata": {
    "scrolled": false
   },
   "outputs": [
    {
     "data": {
      "application/vnd.jupyter.widget-view+json": {
       "model_id": "9a281dae1de64c13820f43045bfc758f",
       "version_major": 2,
       "version_minor": 0
      },
      "text/plain": [
       "interactive(children=(Dropdown(description='Model:', options=('', 'PSPL_PhotAstrom_noPar_Param1', 'PSPL_Phot_n…"
      ]
     },
     "metadata": {},
     "output_type": "display_data"
    }
   ],
   "source": [
    "#event1.animate(4, 150, 40, 'pspl', [10,10], 3, \"yes\")\n",
    "#event1.interact(4, 150, [7,7], 3)\n",
    "\n",
    "out = widgets.Output(layout={'border': '1px solid black'})\n",
    "model_map = {'PSPL_PhotAstrom_noPar_Param1': (event1, [7,7]) , 'PSPL_Phot_noPar_Param1': (event1_phot, [8,4])}  \n",
    "\n",
    "model_dropdown = widgets.Dropdown(\n",
    "    options=['','PSPL_PhotAstrom_noPar_Param1', 'PSPL_Phot_noPar_Param1'],\n",
    "    value='',\n",
    "    description='Model:',)\n",
    "\n",
    "# def get_and_plot(new_event):\n",
    "#     if new_event in model_map:\n",
    "#         curr_model, size = model_map[new_event]\n",
    "#         #display(model_dropdown)\n",
    "#         curr_model.interact(4, 150, size, 3)\n",
    "#         display(curr_model)\n",
    "\n",
    "\n",
    "def get_and_plot(new_event):\n",
    "    #new_event = new_event['new']\n",
    "    if new_event in model_map:\n",
    "        curr_model, size = model_map[new_event]\n",
    "        #with out:\n",
    "        clear_output()\n",
    "        sliders_ui, sliders_out = curr_model.interact(4, 150, size, 3)\n",
    "        #display(display_)\n",
    "        display(sliders_ui, sliders_out)\n",
    "        plt.show()\n",
    "\n",
    "# display(model_dropdown)\n",
    "# model_dropdown.observe(get_and_plot, names='value')\n",
    "\n",
    "byte=interact(get_and_plot, new_event = model_dropdown)"
   ]
  },
  {
   "cell_type": "code",
   "execution_count": null,
   "id": "29cdef33",
   "metadata": {},
   "outputs": [],
   "source": []
  },
  {
   "cell_type": "code",
   "execution_count": null,
   "id": "c40de740",
   "metadata": {},
   "outputs": [],
   "source": []
  }
 ],
 "metadata": {
  "kernelspec": {
   "display_name": "Python 3 (ipykernel)",
   "language": "python",
   "name": "python3"
  },
  "language_info": {
   "codemirror_mode": {
    "name": "ipython",
    "version": 3
   },
   "file_extension": ".py",
   "mimetype": "text/x-python",
   "name": "python",
   "nbconvert_exporter": "python",
   "pygments_lexer": "ipython3",
   "version": "3.9.7"
  }
 },
 "nbformat": 4,
 "nbformat_minor": 5
}
