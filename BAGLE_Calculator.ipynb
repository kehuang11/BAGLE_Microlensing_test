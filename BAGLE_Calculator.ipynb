{
 "cells": [
  {
   "cell_type": "markdown",
   "id": "fcdbbb31",
   "metadata": {},
   "source": [
    "# BAGLE Calculator"
   ]
  },
  {
   "cell_type": "code",
   "execution_count": 26,
   "id": "d0bcaca2",
   "metadata": {},
   "outputs": [],
   "source": [
    "%matplotlib widget\n",
    "import ipywidgets as widgets\n",
    "from ipywidgets import interact\n",
    "from IPython.display import clear_output\n",
    "from traitlets import directional_link\n",
    "\n",
    "import sys\n",
    "sys.path.append('src/')\n",
    "from src.bagle import model\n",
    "\n",
    "import numpy as np\n",
    "import matplotlib.pyplot as plt\n",
    "import matplotlib\n",
    "import numpy as np"
   ]
  },
  {
   "cell_type": "code",
   "execution_count": 27,
   "id": "f4974cdd",
   "metadata": {},
   "outputs": [],
   "source": [
    "# ipython = get_ipython()\n",
    "\n",
    "# def hide_traceback(exc_tuple=None, filename=None, tb_offset=None,\n",
    "#                    exception_only=False, running_compiled_code=False):\n",
    "#     etype, value, tb = sys.exc_info()\n",
    "#     return ipython._showtraceback(etype, value, ipython.InteractiveTB.get_exception_only(etype, value))\n",
    "\n",
    "# ipython.showtraceback = hide_traceback"
   ]
  },
  {
   "cell_type": "code",
   "execution_count": 28,
   "id": "c1ba7bd2",
   "metadata": {},
   "outputs": [
    {
     "name": "stderr",
     "output_type": "stream",
     "text": [
      "/var/folders/y3/pw5z_x614vd0zsyc67bpgm340000gn/T/ipykernel_5797/3989727659.py:21: RuntimeWarning: divide by zero encountered in log10\n",
      "  event3 = model.PSPL_PhotAstrom_noPar_Param3(t0,event1.u0_amp, event1.tE, np.log10(event1.thetaE), event1.piS, event1.piE_E, event1.piE_N,xS0[0],xS0[1],muS[0],muS[1],[b_sff],event1.mag_base)\n"
     ]
    }
   ],
   "source": [
    "mL = 10  # msun\n",
    "t0 = 57000.00\n",
    "xS0 = np.array([0.000, 0.000])\n",
    "# beta = -0.4 # mas\n",
    "beta = 1.4  # mas\n",
    "muS = np.array([3, 0.0])\n",
    "# muL = np.array([-7.0, 0.00])\n",
    "muL = np.array([0.00, 0.00])\n",
    "dL = 4000.0\n",
    "dS = 8000.0\n",
    "b_sff = 1.0\n",
    "mag_src = 19.0\n",
    "\n",
    "\n",
    "event1 = model.PSPL_PhotAstrom_noPar_Param1(mL,t0,beta,dL,dL / dS,xS0[0],xS0[1],muL[0],muL[1],muS[0],muS[1],[b_sff],[mag_src])\n",
    "event1_phot = model.PSPL_Phot_noPar_Param1(t0, event1.u0_amp, event1.tE, event1.piE_E, event1.piE_N,[b_sff],[mag_src])\n",
    "\n",
    "event2 = model.PSPL_PhotAstrom_noPar_Param2(t0,event1.u0_amp, event1.tE, event1.thetaE, event1.piS, event1.piE_E, event1.piE_N,xS0[0],xS0[1],muS[0],muS[1],[b_sff],[mag_src])\n",
    "event2_phot = model.PSPL_Phot_noPar_Param2(t0, event1.u0_amp, event1.tE, event1.piE_E, event1.piE_N,[b_sff],event1.mag_base)\n",
    "\n",
    "event3 = model.PSPL_PhotAstrom_noPar_Param3(t0,event1.u0_amp, event1.tE, np.log10(event1.thetaE), event1.piS, event1.piE_E, event1.piE_N,xS0[0],xS0[1],muS[0],muS[1],[b_sff],event1.mag_base)\n",
    "\n",
    "event4 = model.PSPL_PhotAstrom_noPar_Param4(t0,event1.u0_amp, event1.tE, event1.thetaE, event1.piS, event1.piE_E, event1.piE_N,xS0[0],xS0[1],muS[0],muS[1],[b_sff],event1.mag_base)\n"
   ]
  },
  {
   "cell_type": "code",
   "execution_count": 29,
   "id": "8a023f49",
   "metadata": {},
   "outputs": [
    {
     "name": "stderr",
     "output_type": "stream",
     "text": [
      "/var/folders/y3/pw5z_x614vd0zsyc67bpgm340000gn/T/ipykernel_5797/473858393.py:14: RuntimeWarning: divide by zero encountered in log\n",
      "  event3_astrom = model.PSPL_Astrom_Par_Param3(t0, event1.u0_amp, event1.tE, np.log(event1.thetaE), event1.piS, event1.piE_E, event1.piE_N,xS0[0], xS0[1],muS[0], muS[1], ra, dec)\n",
      "/var/folders/y3/pw5z_x614vd0zsyc67bpgm340000gn/T/ipykernel_5797/473858393.py:19: RuntimeWarning: divide by zero encountered in log10\n",
      "  event3_par = model.PSPL_PhotAstrom_Par_Param3(t0,event1_par.u0_amp, event1_par.tE, np.log10(event1_par.thetaE), event1_par.piS, event1_par.piE_E, event1_par.piE_N,xS0[0],xS0[1],muS[0],muS[1], event1_par.b_sff, event1_par.mag_base, ra, dec)\n"
     ]
    }
   ],
   "source": [
    "ra = 269.9441667\n",
    "dec = -28.6449444\n",
    "mL = 10.0\n",
    "t0 = 55150.0\n",
    "xS0 = [0, 0]\n",
    "beta = -2.0\n",
    "muL = [0, 0]\n",
    "muS = [5, 0]\n",
    "dL = 4000\n",
    "dS = 8000\n",
    "blen_frac = 1\n",
    "imag_base = 10\n",
    "\n",
    "event3_astrom = model.PSPL_Astrom_Par_Param3(t0, event1.u0_amp, event1.tE, np.log(event1.thetaE), event1.piS, event1.piE_E, event1.piE_N,xS0[0], xS0[1],muS[0], muS[1], ra, dec)\n",
    "event4_astrom = model.PSPL_Astrom_Par_Param4(t0, event1.u0_amp, event1.tE, event1.thetaE, event1.piS, event1.piE_E, event1.piE_N,xS0[0], xS0[1],muS[0], muS[1], ra, dec)\n",
    "\n",
    "event1_par = model.PSPL_PhotAstrom_Par_Param1(mL, t0, beta, dL, dL/dS, xS0[0], xS0[1], muL[0], muL[1], muS[0], muS[1], [blen_frac], [imag_base], ra, dec)\n",
    "event2_par = model.PSPL_PhotAstrom_Par_Param2(t0,event1_par.u0_amp, event1_par.tE, event1_par.thetaE, event1_par.piS, event1_par.piE_E, event1_par.piE_N,xS0[0],xS0[1],muS[0],muS[1], [blen_frac], [imag_base], ra, dec)\n",
    "event3_par = model.PSPL_PhotAstrom_Par_Param3(t0,event1_par.u0_amp, event1_par.tE, np.log10(event1_par.thetaE), event1_par.piS, event1_par.piE_E, event1_par.piE_N,xS0[0],xS0[1],muS[0],muS[1], event1_par.b_sff, event1_par.mag_base, ra, dec)\n",
    "event4_par = model.PSPL_PhotAstrom_Par_Param4(t0,event1_par.u0_amp, event1_par.tE, event1_par.thetaE, event1_par.piS, event1_par.piE_E, event1_par.piE_N,xS0[0],xS0[1],muS[0],muS[1], event1_par.b_sff, event1_par.mag_base, ra, dec)"
   ]
  },
  {
   "cell_type": "code",
   "execution_count": 30,
   "id": "9df2d52f",
   "metadata": {},
   "outputs": [],
   "source": [
    "range_dict = {}"
   ]
  },
  {
   "cell_type": "code",
   "execution_count": 32,
   "id": "fe285775",
   "metadata": {
    "scrolled": false
   },
   "outputs": [
    {
     "data": {
      "application/vnd.jupyter.widget-view+json": {
       "model_id": "d40937703f914f5fafc9cb1bc98e2ceb",
       "version_major": 2,
       "version_minor": 0
      },
      "text/plain": [
       "FloatText(value=0.1, description='Step:')"
      ]
     },
     "metadata": {},
     "output_type": "display_data"
    },
    {
     "name": "stdout",
     "output_type": "stream",
     "text": [
      "step: 0.1\n"
     ]
    },
    {
     "data": {
      "application/vnd.jupyter.widget-view+json": {
       "model_id": "ccb6973b5f1a4c47aea98df7e5e07385",
       "version_major": 2,
       "version_minor": 0
      },
      "text/plain": [
       "interactive(children=(Dropdown(description='Model:', layout=Layout(width='max-content'), options=('', 'PSPL_Ph…"
      ]
     },
     "metadata": {},
     "output_type": "display_data"
    },
    {
     "name": "stdout",
     "output_type": "stream",
     "text": [
      "step: 1.0\n"
     ]
    }
   ],
   "source": [
    "PhotAstrom_figsize = [8,8]\n",
    "Phot_figsize = [8,4]\n",
    "\n",
    "model_map = {'PSPL_Phot_noPar_Param1': (event1_phot, Phot_figsize),\n",
    "             'PSPL_Phot_noPar_Param2': (event2_phot, Phot_figsize),\n",
    "             'PSPL_Astrom_Par_Param3': (event3_astrom, Phot_figsize),\n",
    "             'PSPL_Astrom_Par_Param4': (event4_astrom, Phot_figsize),\n",
    "             'PSPL_PhotAstrom_noPar_Param1': (event1, PhotAstrom_figsize) , \n",
    "             'PSPL_PhotAstrom_Par_Param1' : (event1_par, PhotAstrom_figsize),\n",
    "             'PSPL_PhotAstrom_noPar_Param2': (event2, PhotAstrom_figsize) , \n",
    "             'PSPL_PhotAstrom_Par_Param2' : (event2_par, PhotAstrom_figsize),\n",
    "             'PSPL_PhotAstrom_noPar_Param3': (event3, PhotAstrom_figsize) , \n",
    "             'PSPL_PhotAstrom_Par_Param3' : (event3_par, PhotAstrom_figsize),\n",
    "             'PSPL_PhotAstrom_noPar_Param4': (event4, PhotAstrom_figsize) , \n",
    "             'PSPL_PhotAstrom_Par_Param4' : (event4_par, PhotAstrom_figsize),\n",
    "            }  \n",
    "\n",
    "dropdown_options = [''] + list(model_map.keys())\n",
    "model_dropdown = widgets.Dropdown(\n",
    "    options=dropdown_options,\n",
    "    value='',\n",
    "    description='Model:',\n",
    "    layout={'width': 'max-content'},)\n",
    "\n",
    "step_input = widgets.FloatText(description='Step:',value = 0.1)\n",
    "def func1(new_event):\n",
    "    temp = model_dropdown.value\n",
    "    model_dropdown.value = ''\n",
    "    model_dropdown.value = temp\n",
    "            \n",
    "test=interact(func1, new_event = step_input)\n",
    "            \n",
    "def get_and_plot(new_event):\n",
    "    #new_event = new_event['new']\n",
    "    if new_event != '':\n",
    "        curr_model, size = model_map[new_event]\n",
    "        #with out:\n",
    "        clear_output()\n",
    "        \n",
    "    \n",
    "        sliders_ui, sliders_out, sliders_list = curr_model.interact(4, 150, size, 3, step_input.value, range_dict)\n",
    "        #display(display_)\n",
    "        display(sliders_ui, sliders_out)\n",
    "        \n",
    "        plt.show()\n",
    "    \n",
    "        # create text boxes\n",
    "            \n",
    "        box_list = []\n",
    "        range_input_list = {}\n",
    "        params = curr_model.get_params()\n",
    "        for param in params:\n",
    "            \n",
    "            # create two text-boxes\n",
    "            min_input = widgets.FloatText(description=param + ' min',style=dict(description_width='150px'))\n",
    "            max_input = widgets.FloatText(description=param + ' max',style=dict(description_width='150px'))\n",
    "            box = widgets.HBox([min_input, max_input])\n",
    "            display(box)\n",
    "            \n",
    "            # link the sliders min & max field to the text-inputs\n",
    "            widgets.link((sliders_list[param], 'min'), (min_input, 'value'))\n",
    "            widgets.link((sliders_list[param], 'max'), (max_input, 'value'))\n",
    "            \n",
    "            box_list.append(box)\n",
    "            range_input_list[param] = (min_input, max_input)\n",
    "            \n",
    "\n",
    "#display(model_dropdown)\n",
    "byte=interact(get_and_plot, new_event = model_dropdown)\n",
    "\n",
    "#model_dropdown.observe(get_and_plot, names='value')"
   ]
  },
  {
   "cell_type": "code",
   "execution_count": null,
   "id": "29cdef33",
   "metadata": {},
   "outputs": [],
   "source": []
  },
  {
   "cell_type": "code",
   "execution_count": null,
   "id": "c40de740",
   "metadata": {},
   "outputs": [],
   "source": []
  }
 ],
 "metadata": {
  "kernelspec": {
   "display_name": "Python 3 (ipykernel)",
   "language": "python",
   "name": "python3"
  },
  "language_info": {
   "codemirror_mode": {
    "name": "ipython",
    "version": 3
   },
   "file_extension": ".py",
   "mimetype": "text/x-python",
   "name": "python",
   "nbconvert_exporter": "python",
   "pygments_lexer": "ipython3",
   "version": "3.9.7"
  },
  "vscode": {
   "interpreter": {
    "hash": "397704579725e15f5c7cb49fe5f0341eb7531c82d19f2c29d197e8b64ab5776b"
   }
  }
 },
 "nbformat": 4,
 "nbformat_minor": 5
}
